{
 "cells": [
  {
   "cell_type": "code",
   "execution_count": 2,
   "metadata": {},
   "outputs": [],
   "source": [
    "from gnewsclient import gnewsclient"
   ]
  },
  {
   "cell_type": "code",
   "execution_count": 3,
   "metadata": {},
   "outputs": [],
   "source": [
    "client = gnewsclient.NewsClient()"
   ]
  },
  {
   "cell_type": "code",
   "execution_count": 5,
   "metadata": {},
   "outputs": [
    {
     "data": {
      "text/plain": [
       "{'location': 'United States', 'language': 'english', 'topic': 'Top Stories'}"
      ]
     },
     "execution_count": 5,
     "metadata": {},
     "output_type": "execute_result"
    }
   ],
   "source": [
    "client.get_config()"
   ]
  },
  {
   "cell_type": "code",
   "execution_count": 6,
   "metadata": {},
   "outputs": [
    {
     "data": {
      "text/plain": [
       "['Top Stories',\n",
       " 'World',\n",
       " 'Nation',\n",
       " 'Business',\n",
       " 'Technology',\n",
       " 'Entertainment',\n",
       " 'Sports',\n",
       " 'Science',\n",
       " 'Health']"
      ]
     },
     "execution_count": 6,
     "metadata": {},
     "output_type": "execute_result"
    }
   ],
   "source": [
    "client.topics"
   ]
  },
  {
   "cell_type": "code",
   "execution_count": 7,
   "metadata": {},
   "outputs": [
    {
     "data": {
      "text/plain": [
       "['Australia',\n",
       " 'Botswana',\n",
       " 'Canada ',\n",
       " 'Ethiopia',\n",
       " 'Ghana',\n",
       " 'India ',\n",
       " 'Indonesia',\n",
       " 'Ireland',\n",
       " 'Israel ',\n",
       " 'Kenya',\n",
       " 'Latvia',\n",
       " 'Malaysia',\n",
       " 'Namibia',\n",
       " 'New Zealand',\n",
       " 'Nigeria',\n",
       " 'Pakistan',\n",
       " 'Philippines',\n",
       " 'Singapore',\n",
       " 'South Africa',\n",
       " 'Tanzania',\n",
       " 'Uganda',\n",
       " 'United Kingdom',\n",
       " 'United States',\n",
       " 'Zimbabwe',\n",
       " 'Czech Republic',\n",
       " 'Germany',\n",
       " 'Austria',\n",
       " 'Switzerland',\n",
       " 'Argentina',\n",
       " 'Chile',\n",
       " 'Colombia',\n",
       " 'Cuba',\n",
       " 'Mexico',\n",
       " 'Peru',\n",
       " 'Venezuela',\n",
       " 'Belgium ',\n",
       " 'France',\n",
       " 'Morocco',\n",
       " 'Senegal',\n",
       " 'Italy',\n",
       " 'Lithuania',\n",
       " 'Hungary',\n",
       " 'Netherlands',\n",
       " 'Norway',\n",
       " 'Poland',\n",
       " 'Brazil',\n",
       " 'Portugal',\n",
       " 'Romania',\n",
       " 'Slovakia',\n",
       " 'Slovenia',\n",
       " 'Sweden',\n",
       " 'Vietnam',\n",
       " 'Turkey',\n",
       " 'Greece',\n",
       " 'Bulgaria',\n",
       " 'Russia',\n",
       " 'Ukraine ',\n",
       " 'Serbia',\n",
       " 'United Arab Emirates',\n",
       " 'Saudi Arabia',\n",
       " 'Lebanon',\n",
       " 'Egypt',\n",
       " 'Bangladesh',\n",
       " 'Thailand',\n",
       " 'China',\n",
       " 'Taiwan',\n",
       " 'Hong Kong',\n",
       " 'Japan',\n",
       " 'Republic of Korea']"
      ]
     },
     "execution_count": 7,
     "metadata": {},
     "output_type": "execute_result"
    }
   ],
   "source": [
    "client.locations"
   ]
  },
  {
   "cell_type": "code",
   "execution_count": 8,
   "metadata": {},
   "outputs": [
    {
     "data": {
      "text/plain": [
       "['english',\n",
       " 'indonesian',\n",
       " 'czech',\n",
       " 'german',\n",
       " 'spanish',\n",
       " 'french',\n",
       " 'italian',\n",
       " 'latvian',\n",
       " 'lithuanian',\n",
       " 'hungarian',\n",
       " 'dutch',\n",
       " 'norwegian',\n",
       " 'polish',\n",
       " 'portuguese brasil',\n",
       " 'portuguese portugal',\n",
       " 'romanian',\n",
       " 'slovak',\n",
       " 'slovenian',\n",
       " 'swedish',\n",
       " 'vietnamese',\n",
       " 'turkish',\n",
       " 'greek',\n",
       " 'bulgarian',\n",
       " 'russian',\n",
       " 'serbian',\n",
       " 'ukrainian',\n",
       " 'hebrew',\n",
       " 'arabic',\n",
       " 'marathi',\n",
       " 'hindi',\n",
       " 'bengali',\n",
       " 'tamil',\n",
       " 'telugu',\n",
       " 'malyalam',\n",
       " 'thai',\n",
       " 'chinese simplified',\n",
       " 'chinese traditional',\n",
       " 'japanese',\n",
       " 'korean']"
      ]
     },
     "execution_count": 8,
     "metadata": {},
     "output_type": "execute_result"
    }
   ],
   "source": [
    "client.languages"
   ]
  },
  {
   "cell_type": "code",
   "execution_count": 9,
   "metadata": {},
   "outputs": [],
   "source": [
    "client.location = \"India\"\n",
    "client.language = \"Hindi\"\n",
    "client.topic = \"Sports\""
   ]
  },
  {
   "cell_type": "code",
   "execution_count": 10,
   "metadata": {},
   "outputs": [
    {
     "data": {
      "text/plain": [
       "[{'title': 'आईपीएल के खिलाफ पाकिस्तान/ पीसीबी सीईओ ने कहा- इस साल एशिया कप होकर रहेगा, आईपीएल के लिए इसे नहीं टाला जा सकता - Dainik Bhaskar',\n",
       "  'link': 'https://news.google.com/__i/rss/rd/articles/CBMizQFodHRwczovL3d3dy5iaGFza2FyLmNvbS9zcG9ydHMvY3JpY2tldC9uZXdzL2lwbC0yMDIwLWRhdGUtbmV3cy1hc2lhLWN1cC1uZXdzLWJjY2ktcGNiLWNyaWNrZXQtdXBkYXRlcy1wYWtpc3Rhbi1jcmlja2V0LWJvYXJkLXRvLW5vdC1jYW5jZWwtYXNpYS1jdXAtZm9yLXNha2Utb2YtaW5kaWFuLXByZW1pZXItbGVhZ3VlLXR3ZW50eTIwLTEyNzQ0MjI0Mi5odG1s0gHRAWh0dHBzOi8vd3d3LmJoYXNrYXIuY29tL2FtcC9zcG9ydHMvY3JpY2tldC9uZXdzL2lwbC0yMDIwLWRhdGUtbmV3cy1hc2lhLWN1cC1uZXdzLWJjY2ktcGNiLWNyaWNrZXQtdXBkYXRlcy1wYWtpc3Rhbi1jcmlja2V0LWJvYXJkLXRvLW5vdC1jYW5jZWwtYXNpYS1jdXAtZm9yLXNha2Utb2YtaW5kaWFuLXByZW1pZXItbGVhZ3VlLXR3ZW50eTIwLTEyNzQ0MjI0Mi5odG1s?oc=5',\n",
       "  'media': None},\n",
       " {'title': 'पाकिस्तान के 7 और खिलाड़ी कोरोना वायरस की चपेट में, इंग्लैंड दौरे पर संकट - Navbharat Times',\n",
       "  'link': 'https://news.google.com/__i/rss/rd/articles/CBMilwFodHRwczovL25hdmJoYXJhdHRpbWVzLmluZGlhdGltZXMuY29tL3Nwb3J0cy9jcmlja2V0L2NyaWNrZXQtbmV3cy9zZXZlbi1tb3JlLXBha2lzdGFuLWNyaWNrZXRlcnMtdGVzdC1wb3NpdGl2ZS1mb3ItY29yb25hdmlydXMvYXJ0aWNsZXNob3cvNzY1MzM1MjQuY21z0gGbAWh0dHBzOi8vbmF2YmhhcmF0dGltZXMuaW5kaWF0aW1lcy5jb20vc3BvcnRzL2NyaWNrZXQvY3JpY2tldC1uZXdzL3NldmVuLW1vcmUtcGFraXN0YW4tY3JpY2tldGVycy10ZXN0LXBvc2l0aXZlLWZvci1jb3JvbmF2aXJ1cy9hbXBfYXJ0aWNsZXNob3cvNzY1MzM1MjQuY21z?oc=5',\n",
       "  'media': None},\n",
       " {'title': 'हरियाणा की 7 साल की ऑलराउंडर/ धोनी को फेवरेट मानने वाली परी हेलिकॉप्टर शॉट लगाना सीख रही, कहा- इंडिया के लिए खेलकर पिता का सपना पूरा करना है - Dainik Bhaskar',\n",
       "  'link': 'https://news.google.com/__i/rss/rd/articles/CBMisQFodHRwczovL3d3dy5iaGFza2FyLmNvbS9zcG9ydHMvY3JpY2tldC9uZXdzL3Bhcmktc2hhcm1hLWJhdHRpbmctc3R5bGUtdXBkYXRlcy1pbmRpYW4tY3JpY2tldGVyLWhhaWxlZC1zZXZlbi15ZWFyLW9sZC1kYW5nYWwtZ2lybC0yLXdhdGNoLW1zLWRob25pLWhlbGljb3B0ZXItc2hvdHMtMTI3NDQyMzc3Lmh0bWzSAbUBaHR0cHM6Ly93d3cuYmhhc2thci5jb20vYW1wL3Nwb3J0cy9jcmlja2V0L25ld3MvcGFyaS1zaGFybWEtYmF0dGluZy1zdHlsZS11cGRhdGVzLWluZGlhbi1jcmlja2V0ZXItaGFpbGVkLXNldmVuLXllYXItb2xkLWRhbmdhbC1naXJsLTItd2F0Y2gtbXMtZGhvbmktaGVsaWNvcHRlci1zaG90cy0xMjc0NDIzNzcuaHRtbA?oc=5',\n",
       "  'media': None},\n",
       " {'title': 'कोरोना के बीच विराट को सता रही है इस चीज की याद, कहा- दिल के बेहद करीब है ये - ABP News',\n",
       "  'link': 'https://news.google.com/__i/rss/rd/articles/CBMiaGh0dHBzOi8vd3d3LmFicGxpdmUuY29tL3Nwb3J0cy92aXJhdC1rb2hsaS1leHByZXNzZXMtaGlzLWxvdmUtZm9yLXRlc3QtY3JpY2tldC1pbi1pbnN0YWdyYW0tcG9zdC0xNDQxMDY30gFsaHR0cHM6Ly93d3cuYWJwbGl2ZS5jb20vc3BvcnRzL3ZpcmF0LWtvaGxpLWV4cHJlc3Nlcy1oaXMtbG92ZS1mb3ItdGVzdC1jcmlja2V0LWluLWluc3RhZ3JhbS1wb3N0LTE0NDEwNjcvYW1w?oc=5',\n",
       "  'media': None},\n",
       " {'title': 'दुनिया के नंबर वन टेनिस खिलाड़ी को हुआ कोरोना संक्रमण, पत्नी भी आईं चपेट में - Zee News Hindi',\n",
       "  'link': 'https://news.google.com/__i/rss/rd/articles/CBMicmh0dHBzOi8vemVlbmV3cy5pbmRpYS5jb20vaGluZGkvc3BvcnRzL25vdmFrLWRqb2tvdmljLXRlc3RzLXBvc2l0aXZlLWZvci1jb3JvbmF2aXJ1cy1hZnRlci1hZHJpYS10b3VyLWV2ZW50LzcwMDQyMNIBdmh0dHBzOi8vemVlbmV3cy5pbmRpYS5jb20vaGluZGkvc3BvcnRzL25vdmFrLWRqb2tvdmljLXRlc3RzLXBvc2l0aXZlLWZvci1jb3JvbmF2aXJ1cy1hZnRlci1hZHJpYS10b3VyLWV2ZW50LzcwMDQyMC9hbXA?oc=5',\n",
       "  'media': None},\n",
       " {'title': 'फीमेल वर्जन में ऐसे दिखे सचिन-सहवाग-गांगुली, दादा को कहा गया सानिया मिर्जा - Sports - आज तक',\n",
       "  'link': 'https://news.google.com/__i/rss/rd/articles/CBMijQFodHRwczovL2FhanRhay5pbnRvZGF5LmluL2dhbGxlcnkvaGFyYmhhamFuLXNpbmdoLWluc3RhZ3JhbS1waG90by1pbmRpYW4tZm9ybWVyLWNyaWNrZXRlcnMtZ2VuZGVyLXNhY2hpbi1nYW5ndWx5LXRlYW0taW5kaWEtdHNwby0xLTUyMDgyLmh0bWzSAQA?oc=5',\n",
       "  'media': None},\n",
       " {'title': 'कोरोना ने इस खिलाड़ी से छीना कप्तान बनने का मौका, याद आ रहा IPL - आज तक',\n",
       "  'link': 'https://news.google.com/__i/rss/rd/articles/CBMijAFodHRwczovL2FhanRhay5pbnRvZGF5LmluL3Nwb3J0cy9zdG9yeS9rbC1yYWh1bC13aWNrZXRrZWVwZXItYmF0c21hbi1raW5ncy14aS1wdW5qYWItYmNjaS1jb3JvbmF2aXJ1cy1jcmlja2V0LXRlYW0taW5kaWEtdHNwby0xLTEyMDM4NzcuaHRtbNIBigFodHRwczovL2FhanRhay5pbnRvZGF5LmluL2xpdGUvc3Rvcnkva2wtcmFodWwtd2lja2V0a2VlcGVyLWJhdHNtYW4ta2luZ3MteGktcHVuamFiLWJjY2ktY29yb25hdmlydXMtY3JpY2tldC10ZWFtLWluZGlhLXRzcG8tMS0xMjAzODc3Lmh0bWw?oc=5',\n",
       "  'media': None},\n",
       " {'title': 'एक दिन पहले ‘पॉजिटिव’ पाए गए मोहम्मद हफीज का टेस्ट अब ‘नेगेटिव’ आया - आज तक',\n",
       "  'link': 'https://news.google.com/__i/rss/rd/articles/CBMie2h0dHBzOi8vYWFqdGFrLmludG9kYXkuaW4vc3BvcnRzL3N0b3J5L2RheS1hZnRlci1iZWluZy1kZWNsYXJlZC1jb3ZpZC0xOS1wb3NpdGl2ZS1oYWZlZXotdGVzdHMtbmVnYXRpdmUtdHNwby0xLTEyMDM4NDMuaHRtbNIBeWh0dHBzOi8vYWFqdGFrLmludG9kYXkuaW4vbGl0ZS9zdG9yeS9kYXktYWZ0ZXItYmVpbmctZGVjbGFyZWQtY292aWQtMTktcG9zaXRpdmUtaGFmZWV6LXRlc3RzLW5lZ2F0aXZlLXRzcG8tMS0xMjAzODQzLmh0bWw?oc=5',\n",
       "  'media': None},\n",
       " {'title': 'राहुल द्रविड़ बने पिछले 50 साल के बेस्ट भारतीय टेस्ट बल्लेबाज, सचिन, गावस्कर व विराट को पीछे छोड़ा - दैनिक जागरण (Dainik Jagran)',\n",
       "  'link': 'https://news.google.com/__i/rss/rd/articles/CBMipQFodHRwczovL3d3dy5qYWdyYW4uY29tL2NyaWNrZXQvaGVhZGxpbmVzLXJhaHVsLWRyYXZpZC1iZWNhbWUtdGhlLWJlc3QtaW5kaWFuLXRlc3QtYmF0c21hbi1vZi10aGUtbGFzdC01MC15ZWFycy1sZWF2aW5nLWJlaGluZC1zYWNoaW4tZ2F2YXNrYXItYW5kLXZpcmF0LTIwNDI5ODE0Lmh0bWzSAagBaHR0cHM6Ly9tLmphZ3Jhbi5jb20vbGl0ZS9jcmlja2V0L2hlYWRsaW5lcy1yYWh1bC1kcmF2aWQtYmVjYW1lLXRoZS1iZXN0LWluZGlhbi10ZXN0LWJhdHNtYW4tb2YtdGhlLWxhc3QtNTAteWVhcnMtbGVhdmluZy1iZWhpbmQtc2FjaGluLWdhdmFza2FyLWFuZC12aXJhdC0yMDQyOTgxNC5odG1s?oc=5',\n",
       "  'media': None},\n",
       " {'title': 'कोहली पर बोले गावस्कर- मेरे समय के इस खतरनाक बल्लेबाज की तरह करते हैं बैटिंग - Sports - आज तक',\n",
       "  'link': 'https://news.google.com/__i/rss/rd/articles/CBMifmh0dHBzOi8vYWFqdGFrLmludG9kYXkuaW4vZ2FsbGVyeS92aXJhdC1rb2hsaS1zdW5pbC1nYXZhc2thci12aXYtcmljaGFyZHMta29obGktYmF0dGluZy1zdHlsZS1pbmRpYW4tY2FwdGFpbi10c3BvLTEtNTIwODQuaHRtbNIBAA?oc=5',\n",
       "  'media': None}]"
      ]
     },
     "execution_count": 10,
     "metadata": {},
     "output_type": "execute_result"
    }
   ],
   "source": [
    "client.get_news()"
   ]
  },
  {
   "cell_type": "code",
   "execution_count": null,
   "metadata": {},
   "outputs": [],
   "source": []
  }
 ],
 "metadata": {
  "kernelspec": {
   "display_name": "Python 3",
   "language": "python",
   "name": "python3"
  },
  "language_info": {
   "codemirror_mode": {
    "name": "ipython",
    "version": 3
   },
   "file_extension": ".py",
   "mimetype": "text/x-python",
   "name": "python",
   "nbconvert_exporter": "python",
   "pygments_lexer": "ipython3",
   "version": "3.7.7"
  }
 },
 "nbformat": 4,
 "nbformat_minor": 2
}

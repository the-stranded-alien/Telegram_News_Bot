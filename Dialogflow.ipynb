{
 "cells": [
  {
   "cell_type": "code",
   "execution_count": 1,
   "metadata": {},
   "outputs": [],
   "source": [
    "import os\n",
    "os.environ[\"GOOGLE_APPLICATION_CREDENTIALS\"] = \"xxx\" # Dialogflow Credentials File"
   ]
  },
  {
   "cell_type": "code",
   "execution_count": 2,
   "metadata": {},
   "outputs": [],
   "source": [
    "import dialogflow_v2 as dialogflow"
   ]
  },
  {
   "cell_type": "code",
   "execution_count": 3,
   "metadata": {},
   "outputs": [],
   "source": [
    "dialogflow_session_client = dialogflow.SessionsClient()\n",
    "PROJECT_ID = \"xxx\" # Dialogflow Project ID"
   ]
  },
  {
   "cell_type": "code",
   "execution_count": 4,
   "metadata": {},
   "outputs": [],
   "source": [
    "def detect_intent_from_text(text, session_id, language_code='en'):\n",
    "    session = dialogflow_session_client.session_path(PROJECT_ID, session_id)\n",
    "    text_input = dialogflow.types.TextInput(text=text, language_code=language_code)\n",
    "    query_input = dialogflow.types.QueryInput(text=text_input)\n",
    "    response = dialogflow_session_client.detect_intent(session=session, query_input=query_input)\n",
    "    return response.query_result"
   ]
  },
  {
   "cell_type": "code",
   "execution_count": 5,
   "metadata": {},
   "outputs": [],
   "source": [
    "response = detect_intent_from_text(\"Hello !!\", 12345)"
   ]
  },
  {
   "cell_type": "code",
   "execution_count": 6,
   "metadata": {},
   "outputs": [
    {
     "name": "stdout",
     "output_type": "stream",
     "text": [
      "query_text: \"Hello !!\"\n",
      "action: \"input.welcome\"\n",
      "parameters {\n",
      "}\n",
      "all_required_params_present: true\n",
      "fulfillment_text: \"Hi! How are you doing?\"\n",
      "fulfillment_messages {\n",
      "  text {\n",
      "    text: \"Hi! How are you doing?\"\n",
      "  }\n",
      "}\n",
      "intent {\n",
      "  name: \"projects/newsbot-qopvqb/agent/intents/6ec9d6ba-4287-454e-a457-00c75e455977\"\n",
      "  display_name: \"Default Welcome Intent\"\n",
      "}\n",
      "intent_detection_confidence: 1.0\n",
      "language_code: \"en\"\n",
      "\n"
     ]
    }
   ],
   "source": [
    "print(response)"
   ]
  },
  {
   "cell_type": "code",
   "execution_count": 7,
   "metadata": {},
   "outputs": [],
   "source": [
    "response = detect_intent_from_text(\"show me sports news from india in hindi\", 12345)"
   ]
  },
  {
   "cell_type": "code",
   "execution_count": 8,
   "metadata": {},
   "outputs": [
    {
     "name": "stdout",
     "output_type": "stream",
     "text": [
      "{'geo-country': 'India', 'language': 'Hindi', 'topic': 'Sports'}\n"
     ]
    }
   ],
   "source": [
    "print(dict(response.parameters))"
   ]
  },
  {
   "cell_type": "code",
   "execution_count": 9,
   "metadata": {},
   "outputs": [
    {
     "name": "stdout",
     "output_type": "stream",
     "text": [
      "get_news\n"
     ]
    }
   ],
   "source": [
    "print(response.intent.display_name)"
   ]
  }
 ],
 "metadata": {
  "kernelspec": {
   "display_name": "Python 3",
   "language": "python",
   "name": "python3"
  },
  "language_info": {
   "codemirror_mode": {
    "name": "ipython",
    "version": 3
   },
   "file_extension": ".py",
   "mimetype": "text/x-python",
   "name": "python",
   "nbconvert_exporter": "python",
   "pygments_lexer": "ipython3",
   "version": "3.7.7"
  }
 },
 "nbformat": 4,
 "nbformat_minor": 2
}
